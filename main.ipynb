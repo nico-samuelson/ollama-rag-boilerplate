{
 "cells": [
  {
   "cell_type": "code",
   "execution_count": null,
   "metadata": {},
   "outputs": [],
   "source": [
    "from IPython.display import HTML, display\n",
    "import warnings\n",
    "\n",
    "# def set_css():\n",
    "#   display(HTML('''\n",
    "#   <style>\n",
    "#     pre {\n",
    "#         white-space: pre-wrap;\n",
    "#     }\n",
    "#   </style>\n",
    "#   '''))\n",
    "# get_ipython().events.register('pre_run_cell', set_css)\n",
    "\n",
    "warnings.filterwarnings('ignore')"
   ]
  },
  {
   "cell_type": "markdown",
   "metadata": {},
   "source": [
    "# OLLAMA SETUP"
   ]
  },
  {
   "cell_type": "code",
   "execution_count": null,
   "metadata": {
    "colab": {
     "base_uri": "https://localhost:8080/"
    },
    "id": "sn5F0dOpx9YL",
    "outputId": "9dfe1791-0494-43d8-d8a4-58d545b40df4"
   },
   "outputs": [],
   "source": [
    "!curl -fsSL https://ollama.com/install.sh | sh"
   ]
  },
  {
   "cell_type": "code",
   "execution_count": null,
   "metadata": {
    "id": "fRlneXleyZ8T"
   },
   "outputs": [],
   "source": [
    "!nohup ollama serve > ollama.log 2>&1 &"
   ]
  },
  {
   "cell_type": "code",
   "execution_count": null,
   "metadata": {
    "colab": {
     "base_uri": "https://localhost:8080/"
    },
    "id": "seSPSIZcycpM",
    "outputId": "b9b184e3-d6b9-4d1f-c6e8-e105041c93e6"
   },
   "outputs": [],
   "source": [
    "!ollama pull deepseek-r1:8b"
   ]
  },
  {
   "cell_type": "code",
   "execution_count": null,
   "metadata": {
    "colab": {
     "base_uri": "https://localhost:8080/"
    },
    "id": "_8RYgmiK4jaS",
    "outputId": "114803e7-a026-403e-e1a2-9e48087cba41"
   },
   "outputs": [],
   "source": [
    "!ollama list"
   ]
  },
  {
   "cell_type": "markdown",
   "metadata": {},
   "source": [
    "# IMPORTS"
   ]
  },
  {
   "cell_type": "code",
   "execution_count": null,
   "metadata": {
    "colab": {
     "base_uri": "https://localhost:8080/",
     "height": 17
    },
    "id": "V6UoMxUXZOnx",
    "outputId": "35bbfd31-ed10-448b-b20b-2fe56af59326"
   },
   "outputs": [],
   "source": [
    "import torch\n",
    "import pipeline\n",
    "import hyperparameters as hp"
   ]
  },
  {
   "cell_type": "code",
   "execution_count": null,
   "metadata": {
    "colab": {
     "base_uri": "https://localhost:8080/",
     "height": 17
    },
    "id": "HCzks81hZN9T",
    "outputId": "3c808561-bd6a-4363-b982-cbf630f0b8fd"
   },
   "outputs": [],
   "source": [
    "# Check GPU availability\n",
    "def check_gpu_setup():\n",
    "    print(\"=== GPU Setup Check ===\")\n",
    "    print(f\"CUDA available: {torch.cuda.is_available()}\")\n",
    "    if torch.cuda.is_available():\n",
    "        print(f\"CUDA device count: {torch.cuda.device_count()}\")\n",
    "        print(f\"Current CUDA device: {torch.cuda.current_device()}\")\n",
    "        print(f\"CUDA device name: {torch.cuda.get_device_name()}\")\n",
    "        print(f\"CUDA memory: {torch.cuda.get_device_properties(0).total_memory / 1e9:.1f} GB\")\n",
    "    print(\"=\" * 30)"
   ]
  },
  {
   "cell_type": "code",
   "execution_count": null,
   "metadata": {
    "colab": {
     "base_uri": "https://localhost:8080/",
     "height": 1000
    },
    "id": "C0Q5fwHPcjZM",
    "outputId": "5ac41279-3455-47ed-cff1-4776fe91020f"
   },
   "outputs": [],
   "source": [
    "if __name__ == \"__main__\":\n",
    "    try:\n",
    "        check_gpu_setup()\n",
    "\n",
    "        # Setup the RAG pipeline with Ollama LLM\n",
    "        retriever, ollama_llm = pipeline.build_rag_pipeline(hp.DOCUMENT_PATH)\n",
    "\n",
    "        # if ollama_llm is None:\n",
    "        #     raise RuntimeError(\"Failed to initialize Ollama LLM\")\n",
    "\n",
    "        # model.interactive_streaming_loop(retriever, ollama_llm)\n",
    "\n",
    "    except Exception as e:\n",
    "        print(f\"❌ Setup failed: {e}\")\n",
    "        import traceback\n",
    "        traceback.print_exc()"
   ]
  },
  {
   "cell_type": "code",
   "execution_count": null,
   "metadata": {},
   "outputs": [],
   "source": []
  }
 ],
 "metadata": {
  "accelerator": "GPU",
  "colab": {
   "gpuType": "T4",
   "provenance": []
  },
  "kaggle": {
   "accelerator": "nvidiaTeslaT4",
   "dataSources": [
    {
     "datasetId": 7917977,
     "sourceId": 12541756,
     "sourceType": "datasetVersion"
    },
    {
     "datasetId": 7918655,
     "sourceId": 12542686,
     "sourceType": "datasetVersion"
    }
   ],
   "dockerImageVersionId": 31090,
   "isGpuEnabled": true,
   "isInternetEnabled": true,
   "language": "python",
   "sourceType": "notebook"
  },
  "kernelspec": {
   "display_name": "Python 3",
   "name": "python3"
  },
  "language_info": {
   "codemirror_mode": {
    "name": "ipython",
    "version": 3
   },
   "file_extension": ".py",
   "mimetype": "text/x-python",
   "name": "python",
   "nbconvert_exporter": "python",
   "pygments_lexer": "ipython3",
   "version": "3.13.3"
  }
 },
 "nbformat": 4,
 "nbformat_minor": 0
}
